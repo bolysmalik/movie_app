{
 "cells": [
  {
   "cell_type": "markdown",
   "metadata": {
    "id": "rkWk70BZ8OMO"
   },
   "source": [
    "# Task: Iris Dataset Clustering and PCA Analysis\n",
    "\n",
    "**Objective**: Use PCA for dimensionality reduction and apply K-Means clustering to identify patterns in the Iris dataset. You’ll explore how clustering results vary based on the number of clusters and visualize the clusters in a 2D PCA-reduced space.\n",
    "\n",
    "---\n",
    "\n",
    "### Step-by-Step Instructions:\n",
    "\n",
    "1. **Data Exploration**:\n",
    "   - Load the Iris dataset using `sns.load_dataset('iris')`.\n",
    "   - Display the first few rows of the dataset to understand the data structure.\n",
    "\n",
    "2. **Feature Selection and Standardization**:\n",
    "   - Select the four numerical features (`sepal_length`, `sepal_width`, `petal_length`, `petal_width`) for clustering.\n",
    "   - Standardize these features using `StandardScaler`.\n",
    "\n",
    "3. **Dimensionality Reduction with PCA**:\n",
    "   - Apply PCA to reduce the standardized data to two components.\n",
    "   - Plot the PCA results in a scatter plot, with color representing the species (Hint: Use `iris['species'].astype('category').cat.codes` to assign numerical values to species).\n",
    "\n",
    "4. **K-Means Clustering**:\n",
    "   - Apply K-Means clustering to the PCA-reduced data with `n_clusters=3`.\n",
    "   - Plot the clusters in the 2D PCA space, including cluster centers (in red, using `marker='X'`).\n",
    "\n",
    "5. **Finding Optimal Number of Clusters Using the Elbow Method**:\n",
    "   - Use the Elbow Method by running K-Means clustering with `n_clusters` ranging from 1 to 10.\n",
    "   - Plot the Sum of Squared Errors (SSE) for each `k` to identify the \"elbow,\" which suggests the optimal number of clusters.\n",
    "\n",
    "---"
   ]
  },
  {
   "cell_type": "code",
   "execution_count": 1,
   "metadata": {},
   "outputs": [
    {
     "ename": "ModuleNotFoundError",
     "evalue": "No module named 'seaborn'",
     "output_type": "error",
     "traceback": [
      "\u001b[0;31m---------------------------------------------------------------------------\u001b[0m",
      "\u001b[0;31mModuleNotFoundError\u001b[0m                       Traceback (most recent call last)",
      "Cell \u001b[0;32mIn[1], line 1\u001b[0m\n\u001b[0;32m----> 1\u001b[0m \u001b[38;5;28;01mimport\u001b[39;00m \u001b[38;5;21;01mseaborn\u001b[39;00m \u001b[38;5;28;01mas\u001b[39;00m \u001b[38;5;21;01msns\u001b[39;00m\n\u001b[1;32m      2\u001b[0m \u001b[38;5;28;01mimport\u001b[39;00m \u001b[38;5;21;01mpandas\u001b[39;00m \u001b[38;5;28;01mas\u001b[39;00m \u001b[38;5;21;01mpd\u001b[39;00m\n\u001b[1;32m      4\u001b[0m \u001b[38;5;66;03m# Load the dataset\u001b[39;00m\n",
      "\u001b[0;31mModuleNotFoundError\u001b[0m: No module named 'seaborn'"
     ]
    }
   ],
   "source": [
    "import seaborn as sns\n",
    "import pandas as pd\n",
    "\n",
    "# Load the dataset\n",
    "iris = sns.load_dataset('iris')\n",
    "\n",
    "# Display the first few rows\n",
    "iris.head()"
   ]
  },
  {
   "cell_type": "code",
   "execution_count": null,
   "metadata": {},
   "outputs": [],
   "source": []
  }
 ],
 "metadata": {
  "colab": {
   "provenance": []
  },
  "kernelspec": {
   "display_name": "Python 3 (ipykernel)",
   "language": "python",
   "name": "python3"
  },
  "language_info": {
   "codemirror_mode": {
    "name": "ipython",
    "version": 3
   },
   "file_extension": ".py",
   "mimetype": "text/x-python",
   "name": "python",
   "nbconvert_exporter": "python",
   "pygments_lexer": "ipython3",
   "version": "3.12.6"
  }
 },
 "nbformat": 4,
 "nbformat_minor": 4
}
