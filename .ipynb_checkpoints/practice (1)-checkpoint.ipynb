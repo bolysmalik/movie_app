{
  "nbformat": 4,
  "nbformat_minor": 0,
  "metadata": {
    "colab": {
      "provenance": []
    },
    "kernelspec": {
      "name": "python3",
      "display_name": "Python 3"
    },
    "language_info": {
      "name": "python"
    }
  },
  "cells": [
    {
      "cell_type": "markdown",
      "source": [
        "# Task: Iris Dataset Clustering and PCA Analysis\n",
        "\n",
        "**Objective**: Use PCA for dimensionality reduction and apply K-Means clustering to identify patterns in the Iris dataset. You’ll explore how clustering results vary based on the number of clusters and visualize the clusters in a 2D PCA-reduced space.\n",
        "\n",
        "---\n",
        "\n",
        "### Step-by-Step Instructions:\n",
        "\n",
        "1. **Data Exploration**:\n",
        "   - Load the Iris dataset using `sns.load_dataset('iris')`.\n",
        "   - Display the first few rows of the dataset to understand the data structure.\n",
        "\n",
        "2. **Feature Selection and Standardization**:\n",
        "   - Select the four numerical features (`sepal_length`, `sepal_width`, `petal_length`, `petal_width`) for clustering.\n",
        "   - Standardize these features using `StandardScaler`.\n",
        "\n",
        "3. **Dimensionality Reduction with PCA**:\n",
        "   - Apply PCA to reduce the standardized data to two components.\n",
        "   - Plot the PCA results in a scatter plot, with color representing the species (Hint: Use `iris['species'].astype('category').cat.codes` to assign numerical values to species).\n",
        "\n",
        "4. **K-Means Clustering**:\n",
        "   - Apply K-Means clustering to the PCA-reduced data with `n_clusters=3`.\n",
        "   - Plot the clusters in the 2D PCA space, including cluster centers (in red, using `marker='X'`).\n",
        "\n",
        "5. **Finding Optimal Number of Clusters Using the Elbow Method**:\n",
        "   - Use the Elbow Method by running K-Means clustering with `n_clusters` ranging from 1 to 10.\n",
        "   - Plot the Sum of Squared Errors (SSE) for each `k` to identify the \"elbow,\" which suggests the optimal number of clusters.\n",
        "\n",
        "---"
      ],
      "metadata": {
        "id": "rkWk70BZ8OMO"
      }
    }
  ]
}